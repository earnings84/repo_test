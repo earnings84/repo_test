{
 "cells": [
  {
   "cell_type": "markdown",
   "metadata": {},
   "source": [
    "# Co2 regulatory factors"
   ]
  },
  {
   "cell_type": "code",
   "execution_count": 1,
   "metadata": {},
   "outputs": [],
   "source": [
    "import numpy as np\n",
    "import pandas as pd\n",
    "from math import sqrt\n",
    "from seaborn import boxplot\n",
    "from pandas import DataFrame\n",
    "import matplotlib.pyplot as plt\n",
    "import tensorflow as tf\n",
    "from sklearn import linear_model\n",
    "from sklearn.model_selection import train_test_split\n",
    "from sklearn.ensemble import RandomForestRegressor, BaggingRegressor, AdaBoostRegressor, BaggingRegressor\n",
    "from sklearn.svm import SVR\n",
    "from xgboost import XGBRegressor\n",
    "from sklearn.metrics import mean_absolute_error, mean_squared_error, r2_score\n",
    "from scipy.optimize import curve_fit\n",
    "from statistics import mean\n",
    "from sklearn.model_selection import cross_val_score\n",
    "from sklearn.model_selection import KFold\n",
    "from sklearn.pipeline import Pipeline\n",
    "from sklearn.preprocessing import MinMaxScaler\n",
    "from tensorflow.python.keras.models import Sequential\n",
    "from tensorflow.python.keras.layers import Dense\n",
    "from tensorflow.python.keras.wrappers.scikit_learn import KerasRegressor\n",
    "import seaborn as sns\n",
    "import warnings\n",
    "warnings.filterwarnings('ignore')"
   ]
  },
  {
   "cell_type": "markdown",
   "metadata": {},
   "source": [
    "# 1. Load the data\n",
    "First of all load the dataset from the csv file."
   ]
  },
  {
   "cell_type": "code",
   "execution_count": 2,
   "metadata": {
    "scrolled": false
   },
   "outputs": [
    {
     "data": {
      "text/html": [
       "<div>\n",
       "<style scoped>\n",
       "    .dataframe tbody tr th:only-of-type {\n",
       "        vertical-align: middle;\n",
       "    }\n",
       "\n",
       "    .dataframe tbody tr th {\n",
       "        vertical-align: top;\n",
       "    }\n",
       "\n",
       "    .dataframe thead th {\n",
       "        text-align: right;\n",
       "    }\n",
       "</style>\n",
       "<table border=\"1\" class=\"dataframe\">\n",
       "  <thead>\n",
       "    <tr style=\"text-align: right;\">\n",
       "      <th></th>\n",
       "      <th>COAL</th>\n",
       "      <th>GAS</th>\n",
       "      <th>OIL</th>\n",
       "      <th>TOTAL</th>\n",
       "      <th>GDP</th>\n",
       "      <th>CO</th>\n",
       "    </tr>\n",
       "  </thead>\n",
       "  <tbody>\n",
       "    <tr>\n",
       "      <th>0</th>\n",
       "      <td>260.56</td>\n",
       "      <td>1.50</td>\n",
       "      <td>92.67</td>\n",
       "      <td>354.72</td>\n",
       "      <td>119.32</td>\n",
       "      <td>0.33</td>\n",
       "    </tr>\n",
       "    <tr>\n",
       "      <th>1</th>\n",
       "      <td>259.93</td>\n",
       "      <td>1.68</td>\n",
       "      <td>103.54</td>\n",
       "      <td>365.15</td>\n",
       "      <td>90.00</td>\n",
       "      <td>0.34</td>\n",
       "    </tr>\n",
       "    <tr>\n",
       "      <th>2</th>\n",
       "      <td>264.26</td>\n",
       "      <td>2.24</td>\n",
       "      <td>106.80</td>\n",
       "      <td>373.30</td>\n",
       "      <td>96.34</td>\n",
       "      <td>0.33</td>\n",
       "    </tr>\n",
       "    <tr>\n",
       "      <th>3</th>\n",
       "      <td>273.43</td>\n",
       "      <td>2.49</td>\n",
       "      <td>119.60</td>\n",
       "      <td>395.51</td>\n",
       "      <td>99.88</td>\n",
       "      <td>0.35</td>\n",
       "    </tr>\n",
       "    <tr>\n",
       "      <th>4</th>\n",
       "      <td>290.45</td>\n",
       "      <td>2.99</td>\n",
       "      <td>143.64</td>\n",
       "      <td>437.08</td>\n",
       "      <td>107.62</td>\n",
       "      <td>0.35</td>\n",
       "    </tr>\n",
       "  </tbody>\n",
       "</table>\n",
       "</div>"
      ],
      "text/plain": [
       "     COAL   GAS     OIL   TOTAL     GDP    CO\n",
       "0  260.56  1.50   92.67  354.72  119.32  0.33\n",
       "1  259.93  1.68  103.54  365.15   90.00  0.34\n",
       "2  264.26  2.24  106.80  373.30   96.34  0.33\n",
       "3  273.43  2.49  119.60  395.51   99.88  0.35\n",
       "4  290.45  2.99  143.64  437.08  107.62  0.35"
      ]
     },
     "execution_count": 2,
     "metadata": {},
     "output_type": "execute_result"
    }
   ],
   "source": [
    "#read the exccel file and convert the data into a pandas DATAFRAME\n",
    "# data = pd.read_csv('SOC_processed.csv', header=0)\n",
    "data = pd.read_csv('dataset.csv')\n",
    "#data=data.drop(['Year'], axis=1)\n",
    "data.head()"
   ]
  },
  {
   "cell_type": "code",
   "execution_count": 3,
   "metadata": {
    "scrolled": true
   },
   "outputs": [
    {
     "data": {
      "text/html": [
       "<div>\n",
       "<style scoped>\n",
       "    .dataframe tbody tr th:only-of-type {\n",
       "        vertical-align: middle;\n",
       "    }\n",
       "\n",
       "    .dataframe tbody tr th {\n",
       "        vertical-align: top;\n",
       "    }\n",
       "\n",
       "    .dataframe thead th {\n",
       "        text-align: right;\n",
       "    }\n",
       "</style>\n",
       "<table border=\"1\" class=\"dataframe\">\n",
       "  <thead>\n",
       "    <tr style=\"text-align: right;\">\n",
       "      <th></th>\n",
       "      <th>COAL</th>\n",
       "      <th>GAS</th>\n",
       "      <th>OIL</th>\n",
       "      <th>TOTAL</th>\n",
       "      <th>GDP</th>\n",
       "      <th>CO</th>\n",
       "    </tr>\n",
       "  </thead>\n",
       "  <tbody>\n",
       "    <tr>\n",
       "      <th>count</th>\n",
       "      <td>52.000000</td>\n",
       "      <td>52.000000</td>\n",
       "      <td>52.000000</td>\n",
       "      <td>52.000000</td>\n",
       "      <td>52.000000</td>\n",
       "      <td>52.000000</td>\n",
       "    </tr>\n",
       "    <tr>\n",
       "      <th>mean</th>\n",
       "      <td>1029.496346</td>\n",
       "      <td>114.177115</td>\n",
       "      <td>565.015769</td>\n",
       "      <td>1708.688269</td>\n",
       "      <td>512.066346</td>\n",
       "      <td>0.804231</td>\n",
       "    </tr>\n",
       "    <tr>\n",
       "      <th>std</th>\n",
       "      <td>779.979469</td>\n",
       "      <td>118.717870</td>\n",
       "      <td>418.531653</td>\n",
       "      <td>1311.074230</td>\n",
       "      <td>463.277387</td>\n",
       "      <td>0.432835</td>\n",
       "    </tr>\n",
       "    <tr>\n",
       "      <th>min</th>\n",
       "      <td>259.930000</td>\n",
       "      <td>1.500000</td>\n",
       "      <td>92.670000</td>\n",
       "      <td>354.720000</td>\n",
       "      <td>90.000000</td>\n",
       "      <td>0.330000</td>\n",
       "    </tr>\n",
       "    <tr>\n",
       "      <th>25%</th>\n",
       "      <td>381.580000</td>\n",
       "      <td>8.552500</td>\n",
       "      <td>206.277500</td>\n",
       "      <td>591.105000</td>\n",
       "      <td>200.820000</td>\n",
       "      <td>0.427500</td>\n",
       "    </tr>\n",
       "    <tr>\n",
       "      <th>50%</th>\n",
       "      <td>830.030000</td>\n",
       "      <td>77.220000</td>\n",
       "      <td>427.750000</td>\n",
       "      <td>1335.000000</td>\n",
       "      <td>343.260000</td>\n",
       "      <td>0.725000</td>\n",
       "    </tr>\n",
       "    <tr>\n",
       "      <th>75%</th>\n",
       "      <td>1350.345000</td>\n",
       "      <td>182.702500</td>\n",
       "      <td>865.225000</td>\n",
       "      <td>2398.272500</td>\n",
       "      <td>566.990000</td>\n",
       "      <td>0.997500</td>\n",
       "    </tr>\n",
       "    <tr>\n",
       "      <th>max</th>\n",
       "      <td>2951.130000</td>\n",
       "      <td>379.960000</td>\n",
       "      <td>1595.800000</td>\n",
       "      <td>4867.060000</td>\n",
       "      <td>1732.560000</td>\n",
       "      <td>1.820000</td>\n",
       "    </tr>\n",
       "  </tbody>\n",
       "</table>\n",
       "</div>"
      ],
      "text/plain": [
       "              COAL         GAS          OIL        TOTAL          GDP  \\\n",
       "count    52.000000   52.000000    52.000000    52.000000    52.000000   \n",
       "mean   1029.496346  114.177115   565.015769  1708.688269   512.066346   \n",
       "std     779.979469  118.717870   418.531653  1311.074230   463.277387   \n",
       "min     259.930000    1.500000    92.670000   354.720000    90.000000   \n",
       "25%     381.580000    8.552500   206.277500   591.105000   200.820000   \n",
       "50%     830.030000   77.220000   427.750000  1335.000000   343.260000   \n",
       "75%    1350.345000  182.702500   865.225000  2398.272500   566.990000   \n",
       "max    2951.130000  379.960000  1595.800000  4867.060000  1732.560000   \n",
       "\n",
       "              CO  \n",
       "count  52.000000  \n",
       "mean    0.804231  \n",
       "std     0.432835  \n",
       "min     0.330000  \n",
       "25%     0.427500  \n",
       "50%     0.725000  \n",
       "75%     0.997500  \n",
       "max     1.820000  "
      ]
     },
     "execution_count": 3,
     "metadata": {},
     "output_type": "execute_result"
    }
   ],
   "source": [
    "data.describe()"
   ]
  },
  {
   "cell_type": "markdown",
   "metadata": {},
   "source": [
    "# 2. Data Visualization.\n",
    "Code below helps us to understand the behaviour of the data in consideration. Two scatterplots are shown below: 1) DBH vs. Total_biomass and 2) Height vs. Total_biomass. An alighnment of 45 degree would mean linear dependency between dependent and independent variable else Non-Linear."
   ]
  },
  {
   "cell_type": "code",
   "execution_count": 26,
   "metadata": {},
   "outputs": [
    {
     "data": {
      "text/plain": [
       "<AxesSubplot:>"
      ]
     },
     "execution_count": 26,
     "metadata": {},
     "output_type": "execute_result"
    },
    {
     "data": {
      "image/png": "[encoded data removed]",
      "text/plain": [
       "<Figure size 432x288 with 1 Axes>"
      ]
     },
     "metadata": {
      "needs_background": "light"
     },
     "output_type": "display_data"
    }
   ],
   "source": [
    "dataset = DataFrame(data, columns=['COAL','GAS','OIL','TOTAL','GDP','CO'])\n",
    "sns.boxplot(data=dataset)"
   ]
  },
  {
   "cell_type": "code",
   "execution_count": 27,
   "metadata": {},
   "outputs": [
    {
     "data": {
      "image/png": "[encoded data removed]",
      "text/plain": [
       "<Figure size 432x288 with 2 Axes>"
      ]
     },
     "metadata": {
      "needs_background": "light"
     },
     "output_type": "display_data"
    }
   ],
   "source": [
    "corr = data.corr()\n",
    "\n",
    "mask_ut=np.triu(np.ones(corr.shape)).astype(np.bool)\n",
    "mask_ut[0:5,0:5]\n",
    "hmap=sns.heatmap(corr, mask=mask_ut, cmap=\"Spectral\", annot=True)\n",
    "# hmap=sns.heatmap(corr, cmap=\"Spectral\", annot=True)\n",
    "# hmap.figure.savefig(\"Correlation_Heatmap_Lower_Triangle_with_Seaborn.png\", format='png', dpi=150)"
   ]
  },
  {
   "cell_type": "markdown",
   "metadata": {},
   "source": [
    "# 3. Using Machine Learning models for the same purpose\n",
    "Now we use some machine learning model to do the predictions and compare their performance with that of conventional statistical approaches."
   ]
  },
  {
   "cell_type": "markdown",
   "metadata": {},
   "source": [
    "# 3.0 Presparing train test data"
   ]
  },
  {
   "cell_type": "code",
   "execution_count": 28,
   "metadata": {},
   "outputs": [],
   "source": [
    "# First step is to create the Train and Test data split as we want to test the model on unseen data \n",
    "# and not on the data which is used during training. A split of 75%-25% for training and testing is made accordingly.\n",
    "\n",
    "X = DataFrame(data, columns=['COAL','GAS','OIL','TOTAL','GDP'])\n",
    "Y = DataFrame(data, columns=['CO'])\n",
    "#train_X, test_X, train_Y, test_Y = train_test_split(X, Y, test_size=0.25, random_state=0)\n",
    "\n",
    "from sklearn import preprocessing\n",
    "from sklearn.datasets import make_classification\n",
    "from sklearn.linear_model import LogisticRegression\n",
    "from sklearn.model_selection import train_test_split\n",
    "from sklearn.pipeline import make_pipeline\n",
    "from sklearn.preprocessing import StandardScaler\n",
    "\n",
    "# define standard scaler\n",
    "#scaler = StandardScaler()\n",
    "# transform data\n",
    "#scaled_X = scaler.fit_transform(X)\n",
    "#scaled_Y = scaler.fit_transform(Y)\n",
    "\n",
    "\n",
    "\n",
    "\n",
    "#train_X, test_X, train_Y, test_Y = train_test_split(X, Y, test_size = 0.25, random_state = 0)\n",
    "#train_X, test_X, train_Y, test_Y = train_test_split(scaled_X, scaled_Y, test_size = 0.25, random_state = 0)\n",
    "\n",
    "min_max_scaler = preprocessing.MinMaxScaler()\n",
    "\n",
    "scaled_X= min_max_scaler.fit_transform(X)\n",
    "scaled_Y= min_max_scaler.fit_transform(Y)\n",
    "\n",
    "train_X, test_X, train_Y, test_Y = train_test_split(scaled_X, scaled_Y, test_size = 0.25, random_state = 0)"
   ]
  },
  {
   "cell_type": "code",
   "execution_count": 44,
   "metadata": {
    "scrolled": true
   },
   "outputs": [
    {
     "data": {
      "text/plain": [
       "False"
      ]
     },
     "execution_count": 44,
     "metadata": {},
     "output_type": "execute_result"
    }
   ],
   "source": [
    "pd.isnull(train_X).sum() > 0\n",
    "#print(train_X)\n",
    "#train_X._is_view"
   ]
  },
  {
   "cell_type": "markdown",
   "metadata": {},
   "source": [
    "# 3.1 Support Vector Regression (SVR) Model"
   ]
  },
  {
   "cell_type": "code",
   "execution_count": 30,
   "metadata": {},
   "outputs": [],
   "source": [
    "# SVRModel = SVR(kernel='rbf', gamma='scale', C=500.0, epsilon=0.5)\n",
    "SVRModel = SVR(kernel='rbf', C=500.0, epsilon=0.5)\n",
    "SVRModel.fit(train_X,train_Y)\n",
    "\n",
    "# Making predictions using Random Forest on test data\n",
    "SVRpredictions = SVRModel.predict(test_X)\n",
    "\n",
    "SVR_R2=r2_score(test_Y,SVRpredictions)\n",
    "SVR_RMSE=sqrt(mean_squared_error(test_Y, SVRpredictions))\n",
    "\n",
    "results=pd.DataFrame()\n",
    "results['Method']=['SVR']\n",
    "results['R2']=[SVR_R2]\n",
    "results['RMSE']=[SVR_RMSE]"
   ]
  },
  {
   "cell_type": "markdown",
   "metadata": {},
   "source": [
    "# 3.2 XGB model"
   ]
  },
  {
   "cell_type": "code",
   "execution_count": 31,
   "metadata": {},
   "outputs": [
    {
     "name": "stdout",
     "output_type": "stream",
     "text": [
      "Feature: 0, Score: 0.95808\n",
      "Feature: 1, Score: 0.00047\n",
      "Feature: 2, Score: 0.00847\n",
      "Feature: 3, Score: 0.00000\n",
      "Feature: 4, Score: 0.03298\n"
     ]
    },
    {
     "data": {
      "image/png": "[encoded data removed]",
      "text/plain": [
       "<Figure size 432x288 with 1 Axes>"
      ]
     },
     "metadata": {
      "needs_background": "light"
     },
     "output_type": "display_data"
    }
   ],
   "source": [
    "XGBModel = XGBRegressor()\n",
    "XGBModel.fit(train_X,train_Y, verbose=False)\n",
    "\n",
    "# Making predictions using XGBModel on test data\n",
    "XGBpredictions = XGBModel.predict(test_X)\n",
    "\n",
    "XGB_R2=r2_score(test_Y,XGBpredictions)\n",
    "XGB_RMSE=sqrt(mean_squared_error(test_Y, XGBpredictions))\n",
    "\n",
    "results.loc[1]=['XGB', XGB_R2, XGB_RMSE]\n",
    "\n",
    "# get importance\n",
    "importance = XGBModel.feature_importances_\n",
    "# summarize feature importance\n",
    "for i,v in enumerate(importance):\n",
    "    print('Feature: %0d, Score: %.5f' % (i,v))\n",
    "# plot feature importance\n",
    "plt.bar([x for x in range(len(importance))], importance)\n",
    "plt.show()"
   ]
  },
  {
   "cell_type": "markdown",
   "metadata": {},
   "source": [
    "# 3.3 Random Forest Regression (RFR) Model"
   ]
  },
  {
   "cell_type": "code",
   "execution_count": 32,
   "metadata": {},
   "outputs": [],
   "source": [
    "RFModel = RandomForestRegressor(n_estimators=500)\n",
    "RFModel.fit(train_X,train_Y)\n",
    "\n",
    "# Making predictions using Random Forest on test data\n",
    "RFpredictions = RFModel.predict(test_X)\n",
    "\n",
    "RF_R2=r2_score(test_Y,RFpredictions)\n",
    "RF_RMSE=sqrt(mean_squared_error(test_Y, RFpredictions))\n",
    "results.loc[2]=['RFR', RF_R2, RF_RMSE]"
   ]
  },
  {
   "cell_type": "markdown",
   "metadata": {},
   "source": [
    "# 3.4 Multiple Linear Regression (MLR) Model"
   ]
  },
  {
   "cell_type": "code",
   "execution_count": 33,
   "metadata": {},
   "outputs": [],
   "source": [
    "LRModel = linear_model.LinearRegression()\n",
    "LRModel.fit(train_X,train_Y)\n",
    "\n",
    "# Making predictions using Random Forest on test data\n",
    "LRpredictions = LRModel.predict(test_X)\n",
    "\n",
    "LR_R2=r2_score(test_Y,LRpredictions)\n",
    "LR_RMSE=sqrt(mean_squared_error(test_Y, LRpredictions))\n",
    "results.loc[3]=['MLR', LR_R2, LR_RMSE]"
   ]
  },
  {
   "cell_type": "markdown",
   "metadata": {},
   "source": [
    "# 3.5 Bagging Regression (BG) Model"
   ]
  },
  {
   "cell_type": "code",
   "execution_count": 34,
   "metadata": {},
   "outputs": [],
   "source": [
    "BGModel = BaggingRegressor()\n",
    "BGModel.fit(train_X,train_Y)\n",
    "\n",
    "# Making predictions using Random Forest on test data\n",
    "BGpredictions = BGModel.predict(test_X)\n",
    "\n",
    "BG_R2=r2_score(test_Y,BGpredictions)\n",
    "BG_RMSE=sqrt(mean_squared_error(test_Y, BGpredictions))\n",
    "results.loc[4]=['Bagging', BG_R2, BG_RMSE]"
   ]
  },
  {
   "cell_type": "markdown",
   "metadata": {},
   "source": [
    "# 3.6 AdaBoost Regression (ADB) Model"
   ]
  },
  {
   "cell_type": "code",
   "execution_count": 35,
   "metadata": {},
   "outputs": [],
   "source": [
    "ADBModel = AdaBoostRegressor()\n",
    "ADBModel.fit(train_X,train_Y)\n",
    "\n",
    "# Making predictions using Random Forest on test data\n",
    "ADBpredictions = ADBModel.predict(test_X)\n",
    "\n",
    "ADB_R2=r2_score(test_Y,ADBpredictions)\n",
    "ADB_RMSE=sqrt(mean_squared_error(test_Y, ADBpredictions))\n",
    "results.loc[5]=['AdaBoost', ADB_R2, ADB_RMSE]"
   ]
  },
  {
   "cell_type": "markdown",
   "metadata": {},
   "source": [
    "# 3.7 Ridge Regression (R) Model"
   ]
  },
  {
   "cell_type": "code",
   "execution_count": 36,
   "metadata": {},
   "outputs": [],
   "source": [
    "RModel = linear_model.Ridge()\n",
    "RModel.fit(train_X,train_Y)\n",
    "\n",
    "# Making predictions using Random Forest on test data\n",
    "Rpredictions = RModel.predict(test_X)\n",
    "\n",
    "R_R2=r2_score(test_Y,Rpredictions)\n",
    "R_RMSE=sqrt(mean_squared_error(test_Y, Rpredictions))\n",
    "results.loc[6]=['Ridge', R_R2, R_RMSE]"
   ]
  },
  {
   "cell_type": "markdown",
   "metadata": {},
   "source": [
    "# 3.8 Polynomial Regression (Poly)"
   ]
  },
  {
   "cell_type": "code",
   "execution_count": 37,
   "metadata": {},
   "outputs": [
    {
     "data": {
      "text/plain": [
       "array([[ 6.83740217e+02,  9.61151148e+01,  3.81593783e+02,\n",
       "        -1.14492955e+03, -1.86950545e-01]])"
      ]
     },
     "execution_count": 37,
     "metadata": {},
     "output_type": "execute_result"
    }
   ],
   "source": [
    "from sklearn.preprocessing import PolynomialFeatures\n",
    "from sklearn.linear_model import LinearRegression\n",
    "\n",
    "polynomial_features= PolynomialFeatures(degree=5)\n",
    "\n",
    "POLYmodel = LinearRegression()\n",
    "POLYmodel.fit(train_X,train_Y)\n",
    "POLYpredictions = POLYmodel.predict(test_X)\n",
    "\n",
    "POLY_R2=r2_score(test_Y,POLYpredictions)\n",
    "POLY_RMSE=sqrt(mean_squared_error(test_Y, POLYpredictions))\n",
    "results.loc[7]=['Polynomial Regression', POLY_R2, POLY_RMSE]\n",
    "POLYmodel.coef_"
   ]
  },
  {
   "cell_type": "markdown",
   "metadata": {},
   "source": [
    "# 3.9 Artificial Neural Network"
   ]
  },
  {
   "cell_type": "code",
   "execution_count": 38,
   "metadata": {},
   "outputs": [
    {
     "name": "stdout",
     "output_type": "stream",
     "text": [
      "dict_keys(['loss', 'mse', 'mae', 'val_loss', 'val_mse', 'val_mae'])\n"
     ]
    },
    {
     "data": {
      "image/png": "[encoded data removed]",
      "text/plain": [
       "<Figure size 432x288 with 1 Axes>"
      ]
     },
     "metadata": {
      "needs_background": "light"
     },
     "output_type": "display_data"
    }
   ],
   "source": [
    "y=np.reshape(Y, (-1,1))\n",
    "\n",
    "\n",
    "ANNmodel = Sequential()\n",
    "ANNmodel.add(Dense(300, input_dim=5, kernel_initializer='normal', activation='relu'))\n",
    "ANNmodel.add(Dense(200, activation='relu'))\n",
    "ANNmodel.add(Dense(100, activation='relu'))\n",
    "ANNmodel.add(Dense(1, activation='linear'))\n",
    "# ANNmodel.summary()\n",
    "\n",
    "ANNmodel.compile(loss='mse', optimizer='adam', metrics=['mse','mae'])\n",
    "\n",
    "history = ANNmodel.fit(train_X, train_Y, epochs=25, batch_size=50,  verbose=0, validation_split=0.3)\n",
    "\n",
    "print(history.history.keys())\n",
    "# \"Loss\"\n",
    "plt.plot(history.history['loss'])\n",
    "plt.plot(history.history['val_loss'])\n",
    "plt.title('model loss')\n",
    "plt.ylabel('loss')\n",
    "plt.xlabel('epoch')\n",
    "plt.legend(['train', 'validation'], loc='upper left')\n",
    "plt.show()"
   ]
  },
  {
   "cell_type": "code",
   "execution_count": 39,
   "metadata": {},
   "outputs": [
    {
     "name": "stdout",
     "output_type": "stream",
     "text": [
      "Model: \"sequential_2\"\n",
      "_________________________________________________________________\n",
      "Layer (type)                 Output Shape              Param #   \n",
      "=================================================================\n",
      "dense_8 (Dense)              (None, 300)               1800      \n",
      "_________________________________________________________________\n",
      "dense_9 (Dense)              (None, 200)               60200     \n",
      "_________________________________________________________________\n",
      "dense_10 (Dense)             (None, 100)               20100     \n",
      "_________________________________________________________________\n",
      "dense_11 (Dense)             (None, 1)                 101       \n",
      "=================================================================\n",
      "Total params: 82,201\n",
      "Trainable params: 82,201\n",
      "Non-trainable params: 0\n",
      "_________________________________________________________________\n"
     ]
    }
   ],
   "source": [
    "ANNmodel.summary()"
   ]
  },
  {
   "cell_type": "code",
   "execution_count": 40,
   "metadata": {},
   "outputs": [],
   "source": [
    "ANNpredictions = ANNmodel.predict(test_X)\n",
    "\n",
    "ANN_R2=r2_score(test_Y,ANNpredictions)\n",
    "\n",
    "ANN_RMSE=sqrt(mean_squared_error(test_Y, ANNpredictions))\n",
    "results.loc[8]=['ANN', ANN_R2, ANN_RMSE]"
   ]
  },
  {
   "cell_type": "markdown",
   "metadata": {},
   "source": [
    "# 4. Visualizing the results\n",
    "R2 and RMSE values are used here to measure the model performance. These values for all four models are furnished in the table below. Overall performance in terms of measured vs observed plot is also presented in the following Figure."
   ]
  },
  {
   "cell_type": "code",
   "execution_count": 41,
   "metadata": {},
   "outputs": [
    {
     "data": {
      "text/html": [
       "<div>\n",
       "<style scoped>\n",
       "    .dataframe tbody tr th:only-of-type {\n",
       "        vertical-align: middle;\n",
       "    }\n",
       "\n",
       "    .dataframe tbody tr th {\n",
       "        vertical-align: top;\n",
       "    }\n",
       "\n",
       "    .dataframe thead th {\n",
       "        text-align: right;\n",
       "    }\n",
       "</style>\n",
       "<table border=\"1\" class=\"dataframe\">\n",
       "  <thead>\n",
       "    <tr style=\"text-align: right;\">\n",
       "      <th></th>\n",
       "      <th>Method</th>\n",
       "      <th>R2</th>\n",
       "      <th>RMSE</th>\n",
       "    </tr>\n",
       "  </thead>\n",
       "  <tbody>\n",
       "    <tr>\n",
       "      <th>0</th>\n",
       "      <td>SVR</td>\n",
       "      <td>-2.061271</td>\n",
       "      <td>0.296644</td>\n",
       "    </tr>\n",
       "    <tr>\n",
       "      <th>1</th>\n",
       "      <td>XGB</td>\n",
       "      <td>0.991000</td>\n",
       "      <td>0.016085</td>\n",
       "    </tr>\n",
       "    <tr>\n",
       "      <th>2</th>\n",
       "      <td>RFR</td>\n",
       "      <td>0.993051</td>\n",
       "      <td>0.014133</td>\n",
       "    </tr>\n",
       "    <tr>\n",
       "      <th>3</th>\n",
       "      <td>MLR</td>\n",
       "      <td>0.979779</td>\n",
       "      <td>0.024109</td>\n",
       "    </tr>\n",
       "    <tr>\n",
       "      <th>4</th>\n",
       "      <td>Bagging</td>\n",
       "      <td>0.993010</td>\n",
       "      <td>0.014175</td>\n",
       "    </tr>\n",
       "    <tr>\n",
       "      <th>5</th>\n",
       "      <td>AdaBoost</td>\n",
       "      <td>0.979350</td>\n",
       "      <td>0.024364</td>\n",
       "    </tr>\n",
       "    <tr>\n",
       "      <th>6</th>\n",
       "      <td>Ridge</td>\n",
       "      <td>0.943672</td>\n",
       "      <td>0.040239</td>\n",
       "    </tr>\n",
       "    <tr>\n",
       "      <th>7</th>\n",
       "      <td>Polynomial Regression</td>\n",
       "      <td>0.979779</td>\n",
       "      <td>0.024109</td>\n",
       "    </tr>\n",
       "    <tr>\n",
       "      <th>8</th>\n",
       "      <td>ANN</td>\n",
       "      <td>0.885248</td>\n",
       "      <td>0.057433</td>\n",
       "    </tr>\n",
       "  </tbody>\n",
       "</table>\n",
       "</div>"
      ],
      "text/plain": [
       "                  Method        R2      RMSE\n",
       "0                    SVR -2.061271  0.296644\n",
       "1                    XGB  0.991000  0.016085\n",
       "2                    RFR  0.993051  0.014133\n",
       "3                    MLR  0.979779  0.024109\n",
       "4                Bagging  0.993010  0.014175\n",
       "5               AdaBoost  0.979350  0.024364\n",
       "6                  Ridge  0.943672  0.040239\n",
       "7  Polynomial Regression  0.979779  0.024109\n",
       "8                    ANN  0.885248  0.057433"
      ]
     },
     "execution_count": 41,
     "metadata": {},
     "output_type": "execute_result"
    }
   ],
   "source": [
    "results"
   ]
  },
  {
   "cell_type": "code",
   "execution_count": 42,
   "metadata": {},
   "outputs": [
    {
     "data": {
      "text/plain": [
       "0.9909995831702121"
      ]
     },
     "execution_count": 42,
     "metadata": {},
     "output_type": "execute_result"
    }
   ],
   "source": [
    "results.iloc[1,1]"
   ]
  },
  {
   "cell_type": "code",
   "execution_count": 43,
   "metadata": {},
   "outputs": [
    {
     "data": {
      "image/png": "[encoded data removed]",
      "text/plain": [
       "<Figure size 1080x216 with 3 Axes>"
      ]
     },
     "metadata": {
      "needs_background": "light"
     },
     "output_type": "display_data"
    },
    {
     "data": {
      "image/png": "[encoded data removed]",
      "text/plain": [
       "<Figure size 1080x216 with 3 Axes>"
      ]
     },
     "metadata": {
      "needs_background": "light"
     },
     "output_type": "display_data"
    }
   ],
   "source": [
    "f1 = plt.figure(figsize=(15,3))\n",
    "fig1 = f1.add_subplot(1,3,1)\n",
    "fig2 = f1.add_subplot(1,3,2)\n",
    "fig3 = f1.add_subplot(1,3,3)\n",
    "\n",
    "f2 = plt.figure(figsize=(15,3))\n",
    "fig4 = f2.add_subplot(1,3,1)\n",
    "fig5 = f2.add_subplot(1,3,2)\n",
    "fig6 = f2.add_subplot(1,3,3)\n",
    "\n",
    "# f3 = plt.figure(figsize=(15,3))\n",
    "# fig7 = f3.add_subplot(1,3,1)\n",
    "# fig8 = f3.add_subplot(1,3,2)\n",
    "# fig9 = f3.add_subplot(1,3,3)\n",
    "\n",
    "fig1.scatter(SVRpredictions, test_Y, c='green', marker=\".\")\n",
    "fig1.set_xlabel('Observed')\n",
    "fig1.set_ylabel('Predicted')\n",
    "fig1.set_title('Support Vector Regreesor')\n",
    "fig1.annotate(\"r-squared={:.2f}\".format(results.iloc[0,1]),(0,14))\n",
    "fig1.annotate(\"RMSE={:.2f}\".format(results.iloc[0,2]), (0,12))\n",
    "lims = [-1, 15]\n",
    "plt.xlim(lims)\n",
    "plt.ylim(lims)\n",
    "_ = fig1.plot(lims, lims, c='red')\n",
    "\n",
    "fig2.scatter(XGBpredictions, test_Y, c='green', marker=\".\")\n",
    "fig2.set_xlabel('Observed')\n",
    "fig2.set_ylabel('Predicted')\n",
    "fig2.set_title('XGB')\n",
    "fig2.annotate(\"r-squared={:.2f}\".format(results.iloc[1,1]),(0,14))\n",
    "fig2.annotate(\"RMSE={:.2f}\".format(results.iloc[1,2]), (0,12))\n",
    "lims = [0, 15]\n",
    "plt.xlim(lims)\n",
    "plt.ylim(lims)\n",
    "_ = fig2.plot(lims, lims, c='red')\n",
    "\n",
    "fig3.scatter(RFpredictions, test_Y, c='green', marker=\".\")\n",
    "fig3.set_xlabel('Observed')\n",
    "fig3.set_ylabel('Predicted')\n",
    "fig3.set_title('Random Forest Regressor')\n",
    "fig3.annotate(\"r-squared={:.2f}\".format(results.iloc[2,1]),(0,14))\n",
    "fig3.annotate(\"RMSE={:.2f}\".format(results.iloc[2,2]), (0,12))\n",
    "lims = [0, 15]\n",
    "plt.xlim(lims)\n",
    "plt.ylim(lims)\n",
    "_ = fig3.plot(lims, lims, c='red')\n",
    "\n",
    "# ----------------------------------------------------------------------------------------------------------\n",
    "\n",
    "fig4.scatter(LRpredictions, test_Y, c='orange', marker=\".\")\n",
    "fig4.set_xlabel('Observed')\n",
    "fig4.set_ylabel('Predicted')\n",
    "fig4.set_title('Multiple Linear Regression')\n",
    "fig4.annotate(\"r-squared={:.2f}\".format(results.iloc[3,1]),(0.5,14))\n",
    "fig4.annotate(\"RMSE={:.2f}\".format(results.iloc[3,2]), (0.5,12))\n",
    "lims = [0, 15]\n",
    "plt.xlim(lims)\n",
    "plt.ylim(lims)\n",
    "_ = fig4.plot(lims, lims, c='red')\n",
    "\n",
    "fig5.scatter(BGpredictions, test_Y, c='orange', marker=\".\")\n",
    "fig5.set_xlabel('Observed')\n",
    "fig5.set_ylabel('Predicted')\n",
    "fig5.set_title('ANN')\n",
    "fig5.annotate(\"r-squared={:.2f}\".format(results.iloc[8,1]),(0,14))\n",
    "fig5.annotate(\"RMSE={:.2f}\".format(results.iloc[8,2]), (0,12))\n",
    "# fig5.set_title('Bagging')\n",
    "# fig5.annotate(\"r-squared={:.2f}\".format(results.iloc[4,1]),(0,14))\n",
    "# fig5.annotate(\"RMSE={:.2f}\".format(results.iloc[4,2]), (0,12))\n",
    "lims = [0, 15]\n",
    "plt.xlim(lims)\n",
    "plt.ylim(lims)\n",
    "_ = fig5.plot(lims, lims, c='red')\n",
    "\n",
    "fig6.scatter(ADBpredictions, test_Y, c='orange', marker=\".\")\n",
    "fig6.set_xlabel('Observed')\n",
    "fig6.set_ylabel('Predicted')\n",
    "fig6.set_title('AdaBoost')\n",
    "fig6.annotate(\"r-squared={:.2f}\".format(results.iloc[5,1]),(0.5,14))\n",
    "fig6.annotate(\"RMSE={:.2f}\".format(results.iloc[5,2]), (0.5,12))\n",
    "lims = [0, 15]\n",
    "plt.xlim(lims)\n",
    "plt.ylim(lims)\n",
    "_ = fig6.plot(lims, lims, c='red')\n",
    "\n",
    "# ----------------------------------------------------------------------------------------------------------\n",
    "\n",
    "# fig7.scatter(Rpredictions, test_Y, c='cyan', marker=\".\")\n",
    "# fig7.set_xlabel('Observed')\n",
    "# fig7.set_ylabel('Predicted')\n",
    "# fig7.set_title('Ridge')\n",
    "# fig7.annotate(\"r-squared={:.2f}\".format(results.iloc[6,1]),(0,14))\n",
    "# fig7.annotate(\"RMSE={:.2f}\".format(results.iloc[6,2]), (0,12))\n",
    "# lims = [0, 15]\n",
    "# plt.xlim(lims)\n",
    "# plt.ylim(lims)\n",
    "# _ = fig7.plot(lims, lims, c='red')\n",
    "\n",
    "# fig8.scatter(POLYpredictions, test_Y, c='cyan', marker=\".\")\n",
    "# fig8.set_xlabel('Observed')\n",
    "# fig8.set_ylabel('Predicted')\n",
    "# fig8.set_title('Polynomial')\n",
    "# fig8.annotate(\"r-squared={:.2f}\".format(results.iloc[7,1]),(0,14))\n",
    "# fig8.annotate(\"RMSE={:.2f}\".format(results.iloc[7,2]), (0,12))\n",
    "# lims = [0, 15]\n",
    "# plt.xlim(lims)\n",
    "# plt.ylim(lims)\n",
    "# _ = fig8.plot(lims, lims, c='red')\n",
    "\n",
    "# fig9.scatter(ANNpredictions, test_Y, c='cyan', marker=\".\")\n",
    "# fig9.set_xlabel('Observed')\n",
    "# fig9.set_ylabel('Predicted')\n",
    "# # fig9.set_title('ANN')\n",
    "# # fig9.annotate(\"r-squared={:.2f}\".format(results.iloc[8,1]),(1,14))\n",
    "# # fig9.annotate(\"RMSE={:.2f}\".format(results.iloc[8,2]), (1,12))\n",
    "# fig9.set_title('Bagging')\n",
    "# fig9.annotate(\"r-squared={:.2f}\".format(results.iloc[4,1]),(0,14))\n",
    "# fig9.annotate(\"RMSE={:.2f}\".format(results.iloc[4,2]), (0,12))\n",
    "# lims = [0, 15]\n",
    "# plt.xlim(lims)\n",
    "# plt.ylim(lims)\n",
    "# fig9.plot(lims, lims, c='red')\n",
    "\n",
    "# # plt.subplots_adjust(wspace=0.1, hspace=5)\n",
    "# # plt.savefig('SOC.png',dpi=150,facecolor='w')"
   ]
  },
  {
   "cell_type": "code",
   "execution_count": null,
   "metadata": {},
   "outputs": [],
   "source": []
  },
  {
   "cell_type": "code",
   "execution_count": null,
   "metadata": {},
   "outputs": [],
   "source": []
  },
  {
   "cell_type": "code",
   "execution_count": null,
   "metadata": {},
   "outputs": [],
   "source": []
  }
 ],
 "metadata": {
  "kernelspec": {
   "display_name": "Python 3",
   "language": "python",
   "name": "python3"
  },
  "language_info": {
   "codemirror_mode": {
    "name": "ipython",
    "version": 3
   },
   "file_extension": ".py",
   "mimetype": "text/x-python",
   "name": "python",
   "nbconvert_exporter": "python",
   "pygments_lexer": "ipython3",
   "version": "3.6.13"
  }
 },
 "nbformat": 4,
 "nbformat_minor": 2
}
